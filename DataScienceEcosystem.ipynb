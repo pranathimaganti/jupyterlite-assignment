{
 "cells": [
  {
   "cell_type": "markdown",
   "id": "cef09ddd-e765-4577-a5aa-0bfeea08d788",
   "metadata": {},
   "source": [
    "# Data Science Tools and Ecosystem\n"
   ]
  },
  {
   "cell_type": "markdown",
   "id": "0e4fb4dd-ce23-494f-848b-b6720e237b5f",
   "metadata": {},
   "source": [
    "In this notebook, we will explore various tools and libraries used in Data Science. We will also perform simple arithmetic operations using Python code.\r\n"
   ]
  },
  {
   "cell_type": "markdown",
   "id": "d051898e-5dbc-4c4d-82f5-a4022dbcd69f",
   "metadata": {},
   "source": [
    "## Some of the popular languages that Data Scientists use are:\n",
    "\n",
    "1. Python  \n",
    "2. R  \n",
    "3. SQL  \n",
    "4. Julia  \n",
    "5. Scala\n"
   ]
  },
  {
   "cell_type": "markdown",
   "id": "8f03f160-8bbd-4f15-b97d-26502e16a73f",
   "metadata": {},
   "source": [
    "## Commonly used libraries by Data Scientists include:\r\n",
    "\r\n",
    "- NumPy  \r\n",
    "- Pandas  \r\n",
    "- Matplotlib  \r\n",
    "- Scikit-learn  \r\n",
    "- TensorFlow\r\n"
   ]
  },
  {
   "cell_type": "markdown",
   "id": "162dd09a-7cba-4ee4-9a13-ac59c436d2cd",
   "metadata": {},
   "source": [
    "## Data Science Tools\r\n",
    "\r\n",
    "| Tool         | Category         | Purpose                        |\r\n",
    "|--------------|------------------|--------------------------------|\r\n",
    "| Jupyter      | IDE              | Interactive computing          |\r\n",
    "| RStudio      | IDE              | R programming                  |\r\n",
    "| Apache Spark | Big Data Tool    | Distributed computing          |\r\n",
    "| TensorFlow   | Deep Learning    | Neural networks and ML         |\r\n",
    "| Tableau      | Visualization    | Creating dashboards            |\r\n"
   ]
  },
  {
   "cell_type": "markdown",
   "id": "154110fb-63f5-44dd-bb2b-c2122e41a1f0",
   "metadata": {},
   "source": [
    "### Below are examples of evaluating arithmetic expressions in Python.\r\n"
   ]
  },
  {
   "cell_type": "code",
   "execution_count": 3,
   "id": "2af86974-b3c3-45f5-bd39-1fdac815c22d",
   "metadata": {},
   "outputs": [
    {
     "data": {
      "text/plain": [
       "17"
      ]
     },
     "execution_count": 3,
     "metadata": {},
     "output_type": "execute_result"
    }
   ],
   "source": [
    "# This will multiply 3 by 4 and add 5\n",
    "(3 * 4) + 5"
   ]
  },
  {
   "cell_type": "code",
   "execution_count": 4,
   "id": "e6738448-0810-4086-92ac-805a96dca97b",
   "metadata": {},
   "outputs": [
    {
     "data": {
      "text/plain": [
       "3.3333333333333335"
      ]
     },
     "execution_count": 4,
     "metadata": {},
     "output_type": "execute_result"
    }
   ],
   "source": [
    "# Convert 200 minutes to hours\n",
    "minutes = 200\n",
    "hours = minutes / 60\n",
    "hours"
   ]
  },
  {
   "cell_type": "markdown",
   "id": "9aa705ee-3961-4010-9bc7-829ac76bb7e4",
   "metadata": {},
   "source": [
    "## Objectives\n",
    "\n",
    "- List popular languages for Data Science  \n",
    "- Introduce libraries and tools used in the field  \n",
    "- Show examples of basic arithmetic operations  \n",
    "- Create and format tables in Markdown  \n",
    "- Practice using Jupyter Notebooks\n"
   ]
  },
  {
   "cell_type": "markdown",
   "id": "0a84e0f9-f9d7-44b3-8415-c7d4ea14412e",
   "metadata": {},
   "source": [
    "**Author:** Pranathi Maganti\n"
   ]
  }
 ],
 "metadata": {
  "kernelspec": {
   "display_name": "Python 3 (ipykernel)",
   "language": "python",
   "name": "python3"
  },
  "language_info": {
   "codemirror_mode": {
    "name": "ipython",
    "version": 3
   },
   "file_extension": ".py",
   "mimetype": "text/x-python",
   "name": "python",
   "nbconvert_exporter": "python",
   "pygments_lexer": "ipython3",
   "version": "3.11.3"
  }
 },
 "nbformat": 4,
 "nbformat_minor": 5
}
